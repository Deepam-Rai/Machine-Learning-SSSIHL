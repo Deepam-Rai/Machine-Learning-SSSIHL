{
 "cells": [
  {
   "cell_type": "code",
   "execution_count": 11,
   "id": "2cfdd2d7-b606-4d07-b5ee-ab6bfea30859",
   "metadata": {},
   "outputs": [],
   "source": []
  },
  {
   "cell_type": "code",
   "execution_count": 1,
   "id": "5b4fadf2-41e8-404a-a9c3-1145dc4e9725",
   "metadata": {},
   "outputs": [],
   "source": [
    "import numpy as np\n",
    "\n",
    "class KNN():\n",
    "    '''\n",
    "    Implementing KNN classification algorithm using numpy.\n",
    "    X: list of observations excluding their class column.\n",
    "    y: list of target variables; numerical datatype; Classes of respective datapoints in X.\n",
    "    k: Hyperparameter k; number of neighbours to consider.\n",
    "    regression: False->Returns most frequent label; True: Returns the mean of labels.\n",
    "    '''\n",
    "    def __init__(self,k, X=None,y=None, regression=False):\n",
    "        self.X = np.array(X)\n",
    "        self.y = np.array(y)\n",
    "        if self.X.shape[0] != self.y.shape[0]:\n",
    "            print(\"Error: The length of X and y is expected to be equal.\")\n",
    "            return None\n",
    "        self.classes = np.unique(self.y) #unique classes\n",
    "        if k<1:\n",
    "            print(\"Error: k should be greater than 0.\")\n",
    "            return None\n",
    "        elif  k%len(self.classes) == 0:\n",
    "            print(\"Error: k should not be a multiple of number of classes in the dataset.\")\n",
    "        else:\n",
    "            self.k=k\n",
    "        self.regression= regression\n",
    "    \n",
    "    def __predict(self,x):\n",
    "        '''\n",
    "        Arguments:\n",
    "        y: new datapoint whose class id to be determined, based upon previously supplied X.\n",
    "        Returns:\n",
    "        Numerical class label for y.\n",
    "        '''\n",
    "        distances = self.__get_distances(x) #gets distance of x from all points in X\n",
    "        neighbours = self.__get_K_neighbours(distances) #returns 'indexes' of k nearest neighbours\n",
    "        labels = self.__get_labels(neighbours) #using the 'indexes' returns their labels.\n",
    "        if self.regression is False:\n",
    "            #return the most frequent label\n",
    "            unique, indexes = np.unique(labels, return_counts=True)\n",
    "            pred = unique[indexes.argmax()]\n",
    "        else:\n",
    "            #return the mean of labels\n",
    "            pred = labels.mean()\n",
    "        return pred\n",
    "    \n",
    "    def predict(self, Xtest):\n",
    "        '''Similar to self.__predict() but can work for multiple datapoints.'''\n",
    "        ypred = []\n",
    "        for x in Xtest:\n",
    "            ypred.append(self.__predict(x))\n",
    "        return ypred\n",
    "    \n",
    "    def __get_K_neighbours(self,distances):\n",
    "        '''Arguments:\n",
    "        distances: 1D numpy array of distances of point x from datapoints in X, at the corresponding indexes.\n",
    "        Returns:\n",
    "        kx1 numpy array of 'indexes' of the distances sorted in ascending order.\n",
    "        '''\n",
    "        return np.argsort(distances)[:self.k]\n",
    "    \n",
    "    def __get_labels(self,neighbours):\n",
    "        '''Arguments:\n",
    "        neighbours: 1D numpy array of 'index'es for points in X.\n",
    "        Returns:\n",
    "        labels for the neighbours.\n",
    "        '''\n",
    "        return np.array([self.y[index] for index in neighbours])\n",
    "        \n",
    "    \n",
    "    def __get_distances(self, x):\n",
    "        '''\n",
    "        Arguments:\n",
    "        x: The point for which distance is to be calculated.\n",
    "        Returns:\n",
    "        The list of distance of the point from all the points in X, following the same indexing as X.'''\n",
    "        distances = []\n",
    "        for p in self.X:\n",
    "            d =np.array(p) - np.array(x)\n",
    "            d = d*d\n",
    "            distances.append( np.sqrt(d.sum()))\n",
    "        return distances\n",
    "            \n",
    "    def setK(self,k):\n",
    "        '''\n",
    "        Parameter k should be greater than 0.\n",
    "        Returns True if k is set else False.\n",
    "        '''\n",
    "        if  k%len(self.classes) == 0:\n",
    "            print(\"Error: k should not be a multiple of number of classes in the dataset.\")\n",
    "        if k<1:\n",
    "            print(\"Error: k should be greater than 0.\")\n",
    "        else:\n",
    "            self.k = k\n",
    "            return True\n",
    "        return False\n",
    "    \n",
    "    def getK(self,k):\n",
    "        return self.k\n",
    "    def getX(self):\n",
    "        return self.X\n",
    "    def gety(self):\n",
    "        return self.y\n",
    "    def getClasses(self):\n",
    "        return self.classes"
   ]
  },
  {
   "cell_type": "code",
   "execution_count": 2,
   "id": "c0d4ed2e-728a-41f9-a46b-b7dcc6c9bd17",
   "metadata": {},
   "outputs": [],
   "source": [
    "import matplotlib.pyplot as plt\n",
    "import seaborn as sns"
   ]
  },
  {
   "cell_type": "code",
   "execution_count": 3,
   "id": "8069396b-f561-4a8f-8281-c918ce360638",
   "metadata": {},
   "outputs": [
    {
     "name": "stdout",
     "output_type": "stream",
     "text": [
      "(17, 3)\n"
     ]
    },
    {
     "data": {
      "image/png": "[encoded data removed]",
      "text/plain": [
       "<Figure size 432x288 with 1 Axes>"
      ]
     },
     "metadata": {
      "needs_background": "light"
     },
     "output_type": "display_data"
    }
   ],
   "source": [
    "# Dataset\n",
    "X = np.array([\n",
    "    [1,4,0],\n",
    "    [2,2,0],\n",
    "    [1,2,0],\n",
    "    [2,3,0],\n",
    "    [3,4,0],\n",
    "    [3,5,0], [3.5,6,0], [2,7,0],\n",
    "    [4,3,0],\n",
    "    \n",
    "    [5,5,1],\n",
    "    [6,7,1], [6,5,1],\n",
    "    [7,6,1], [7,4,1],\n",
    "    [7,8,1], [8,6,1],\n",
    "    [6,8,1]\n",
    "])\n",
    "print(X.shape)\n",
    "MAXX = MAXY = 11\n",
    "sns.scatterplot(x=X[:,0], y= X[:,1], hue=X[:,2])\n",
    "plt.axis(xmin=0,xmax=MAXX, ymin=0,ymax=MAXY)\n",
    "plt.xticks( np.arange(MAXX,step=1))\n",
    "plt.yticks( np.arange(MAXY,step=1))\n",
    "plt.show()"
   ]
  },
  {
   "cell_type": "code",
   "execution_count": 6,
   "id": "85ac69bc-22e3-4883-b781-6d731bfb93c1",
   "metadata": {},
   "outputs": [
    {
     "data": {
      "text/plain": [
       "[0.8, 0.0, 1.0]"
      ]
     },
     "execution_count": 6,
     "metadata": {},
     "output_type": "execute_result"
    }
   ],
   "source": [
    "#Predicting\n",
    "KModel = KNN(X=X[:,:2], y=X[:,2],k=5, regression=True)\n",
    "KModel.predict([[5,6],[0,0],[10,10]])"
   ]
  },
  {
   "cell_type": "code",
   "execution_count": null,
   "id": "a6d7aa18-dd72-4281-9b81-db7cbcf72661",
   "metadata": {},
   "outputs": [],
   "source": []
  }
 ],
 "metadata": {
  "kernelspec": {
   "display_name": "Python 3 (ipykernel)",
   "language": "python",
   "name": "python3"
  },
  "language_info": {
   "codemirror_mode": {
    "name": "ipython",
    "version": 3
   },
   "file_extension": ".py",
   "mimetype": "text/x-python",
   "name": "python",
   "nbconvert_exporter": "python",
   "pygments_lexer": "ipython3",
   "version": "3.8.10"
  }
 },
 "nbformat": 4,
 "nbformat_minor": 5
}
